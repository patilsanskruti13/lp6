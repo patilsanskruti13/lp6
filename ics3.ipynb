{
  "cells": [
    {
      "cell_type": "code",
      "execution_count": null,
      "id": "773f7c9f",
      "metadata": {
        "colab": {
          "base_uri": "https://localhost:8080/"
        },
        "id": "773f7c9f",
        "outputId": "7a131d99-d334-42a8-f955-06f4983c47f5"
      },
      "outputs": [
        {
          "output_type": "stream",
          "name": "stdout",
          "text": [
            "Enter a large prime number (p): 23\n",
            "Enter a primitive root modulo p (g): 2\n",
            "User A, enter your private key (a): 22\n",
            "User B, enter your private key (b): 44\n",
            "Alice's private key (a): 22\n",
            "Bob's private key (b): 44\n",
            "\n",
            "Alice's public key (A): 1\n",
            "Bob's public key (B): 1\n",
            "\n",
            "Alice's computed shared secret: 1\n",
            "Bob's computed shared secret: 1\n",
            "\n",
            "✅ Success! Shared secret key established: 1\n"
          ]
        }
      ],
      "source": [
        "#import random\n",
        "\n",
        "# Step 1: Publicly shared prime number (p) and primitive root (g)\n",
        "p = int(input(\"Enter a large prime number (p): \"))\n",
        "g = int(input(\"Enter a primitive root modulo p (g): \"))\n",
        "\n",
        "\n",
        "# Step 2: Each person chooses a private key\n",
        "a = int(input(\"User A, enter your private key (a): \"))\n",
        "b = int(input(\"User B, enter your private key (b): \"))\n",
        "print(f\"Alice's private key (a): {a}\")\n",
        "print(f\"Bob's private key (b): {b}\\n\")\n",
        "\n",
        "# Step 3: Calculate the public keys\n",
        "A = pow(g, a, p)  # Alice's public key\n",
        "B = pow(g, b, p)  # Bob's public key\n",
        "print(f\"Alice's public key (A): {A}\")\n",
        "print(f\"Bob's public key (B): {B}\\n\")\n",
        "\n",
        "# Step 4: Exchange public keys and calculate the shared secret\n",
        "shared_secret_alice = pow(B, a, p)  # Alice computes shared key\n",
        "shared_secret_bob = pow(A, b, p)    # Bob computes shared key\n",
        "\n",
        "print(f\"Alice's computed shared secret: {shared_secret_alice}\")\n",
        "print(f\"Bob's computed shared secret: {shared_secret_bob}\\n\")\n",
        "\n",
        "# Step 5: Verify that both shared secrets are the same\n",
        "if shared_secret_alice == shared_secret_bob:\n",
        "    print(f\"✅ Success! Shared secret key established: {shared_secret_alice}\")\n",
        "else:\n",
        "    print(\"❌ Error! Shared secrets do not match.\")\n"
      ]
    }
  ],
  "metadata": {
    "kernelspec": {
      "display_name": "Python 3",
      "language": "python",
      "name": "python3"
    },
    "language_info": {
      "codemirror_mode": {
        "name": "ipython",
        "version": 3
      },
      "file_extension": ".py",
      "mimetype": "text/x-python",
      "name": "python",
      "nbconvert_exporter": "python",
      "pygments_lexer": "ipython3",
      "version": "3.10.0"
    },
    "colab": {
      "provenance": []
    }
  },
  "nbformat": 4,
  "nbformat_minor": 5
}